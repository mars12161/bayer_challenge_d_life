{
 "cells": [
  {
   "cell_type": "code",
   "execution_count": null,
   "id": "e9ccae93",
   "metadata": {},
   "outputs": [],
   "source": [
    "# Importing Required Modules\n",
    "from rembg import remove\n",
    "from PIL import Image"
   ]
  },
  {
   "cell_type": "code",
   "execution_count": null,
   "id": "b27855f3",
   "metadata": {},
   "outputs": [],
   "source": [
    "mkdir removed"
   ]
  },
  {
   "cell_type": "code",
   "execution_count": null,
   "id": "fbdbc1f6",
   "metadata": {},
   "outputs": [],
   "source": [
    "# Store path of the image in the variable input_path\n",
    "input_path =  './bc_awareness.png'\n",
    "\n",
    "# Store path of the output image in the variable output_path\n",
    "output_path = './removed/bc_awareness.png'\n",
    "  \n",
    "# Processing the image\n",
    "input = Image.open(input_path)\n",
    "  \n",
    "# Removing the background from the given Image\n",
    "output = remove(input)\n",
    "  \n",
    "#Saving the image in the given path\n",
    "output.save(output_path)"
   ]
  }
 ],
 "metadata": {
  "hide_input": false,
  "kernelspec": {
   "display_name": "Python [conda env:deep_learning]",
   "language": "python",
   "name": "conda-env-deep_learning-py"
  },
  "language_info": {
   "codemirror_mode": {
    "name": "ipython",
    "version": 3
   },
   "file_extension": ".py",
   "mimetype": "text/x-python",
   "name": "python",
   "nbconvert_exporter": "python",
   "pygments_lexer": "ipython3",
   "version": "3.9.7"
  },
  "toc": {
   "base_numbering": 1,
   "nav_menu": {},
   "number_sections": true,
   "sideBar": true,
   "skip_h1_title": false,
   "title_cell": "Table of Contents",
   "title_sidebar": "Contents",
   "toc_cell": false,
   "toc_position": {},
   "toc_section_display": true,
   "toc_window_display": false
  }
 },
 "nbformat": 4,
 "nbformat_minor": 5
}
